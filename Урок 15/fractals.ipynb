{
 "cells": [
  {
   "cell_type": "markdown",
   "id": "758ac085",
   "metadata": {},
   "source": [
    "# Фракталы — пример рекурсии\n",
    "## Практическая часть\n",
    "\n",
    "Реализуйте 1-3 фрактальных структур (любых на выбор) c помощью модуля turple. Постройте выбранные фрактальные структуры с различным числом итераций."
   ]
  },
  {
   "cell_type": "markdown",
   "id": "81712f55",
   "metadata": {},
   "source": [
    "### Модуль Turtle"
   ]
  },
  {
   "cell_type": "markdown",
   "id": "213359ba",
   "metadata": {},
   "source": [
    "\"Черепаха\" по умолчанию распознает 3 команды:\n",
    "\n",
    "- Ползти вперед\n",
    "- Повернуть влево на угол\n",
    "- Повернуть вправо на угол"
   ]
  },
  {
   "cell_type": "markdown",
   "id": "c3080e80",
   "metadata": {},
   "source": [
    "Система Линденмайера, также известная как L-система, это механизм перезаписи строк, который может использоваться для генерации фракталов с размерностью от 1 до 2.\n",
    "\n",
    "Для построения фрактала с помощью L-системы нам нужны:\n",
    "\n",
    "- Алфавит: множество символов, которые будет использовать L-система.\n",
    "\n",
    "- Аксиома: исходная строка для генерации.\n",
    "\n",
    "- Набор инструкций создания строк: эти инструкции описывают, как каждый символ должен заменяться на следующей итерации.\n",
    "\n",
    "Команды для \"черепахи\":\n",
    "\n",
    "F: ползти вперед\n",
    "\n",
    "+: повернуть вправо\n",
    "\n",
    "-: повернуть влево"
   ]
  },
  {
   "cell_type": "markdown",
   "id": "c32a57fe",
   "metadata": {},
   "source": [
    "### Снежинка Коха"
   ]
  },
  {
   "cell_type": "markdown",
   "id": "73a0f33f-f492-47ad-84a4-5a081fc772db",
   "metadata": {},
   "source": [
    "В примерах ниже мы задаём аксиому, правила, число итераций и угол повора (он один и тот же в рамках одного фрактала)."
   ]
  },
  {
   "cell_type": "code",
   "execution_count": null,
   "id": "e5fdeb0c",
   "metadata": {},
   "outputs": [],
   "source": [
    "axiom = \"F--F--F\"\n",
    "rules = {\"F\":\"F+F--F+F\"}\n",
    "iterations = 4 # TOP: 7\n",
    "angle = 60"
   ]
  },
  {
   "cell_type": "markdown",
   "id": "f37d5151",
   "metadata": {},
   "source": [
    "### Квадратный остров Коха"
   ]
  },
  {
   "cell_type": "code",
   "execution_count": null,
   "id": "1e9da10b",
   "metadata": {},
   "outputs": [],
   "source": [
    "axiom = \"F+F+F+F\"\n",
    "rules = {\"F\":\"F-F+F+FFF-F-F+F\"}\n",
    "iterations = 2 # TOP: 4\n",
    "angle = 90"
   ]
  },
  {
   "cell_type": "markdown",
   "id": "029dc630",
   "metadata": {},
   "source": [
    "### Квадратная снежинка"
   ]
  },
  {
   "cell_type": "code",
   "execution_count": null,
   "id": "ba50b2b0",
   "metadata": {},
   "outputs": [],
   "source": [
    "axiom = \"F--F\"\n",
    "rules = {\"F\":\"F-F+F+F-F\"}\n",
    "iterations = 4 # TOP: 6\n",
    "angle = 90"
   ]
  },
  {
   "cell_type": "markdown",
   "id": "28c4a6d0",
   "metadata": {},
   "source": [
    "### Ковер Серпинского"
   ]
  },
  {
   "cell_type": "code",
   "execution_count": null,
   "id": "5e6b5931",
   "metadata": {},
   "outputs": [],
   "source": [
    "axiom = \"YF\"\n",
    "rules = {\"X\":\"YF+XF+Y\", \"Y\":\"XF-YF-X\"}\n",
    "iterations = 1 # TOP: 10\n",
    "angle = 60"
   ]
  },
  {
   "cell_type": "markdown",
   "id": "f5e01ba9",
   "metadata": {},
   "source": [
    "### Квадратный фрактал Госпера"
   ]
  },
  {
   "cell_type": "code",
   "execution_count": null,
   "id": "d032dfac",
   "metadata": {},
   "outputs": [],
   "source": [
    "axiom = \"YF\"\n",
    "rules = {\"X\": \"XFX-YF-YF+FX+FX-YF-YFFX+YF+FXFXYF-FX+YF+FXFX+YF-FXYF-YF-FX+FX+YFYF-\", \n",
    "        \"Y\": \"+FXFX-YF-YF+FX+FXYF+FX-YFYF-FX-YF+FXYFYF-FX-YFFX+FX+YF-YF-FX+FX+YFY\"}\n",
    "iterations = 2 # TOP: 3\n",
    "angle = 90"
   ]
  },
  {
   "cell_type": "markdown",
   "id": "7b150c81",
   "metadata": {},
   "source": [
    "### Кривая дракона"
   ]
  },
  {
   "cell_type": "code",
   "execution_count": null,
   "id": "9c14f615",
   "metadata": {},
   "outputs": [],
   "source": [
    "axiom = \"FX\"\n",
    "rules = {\"X\":\"X+YF+\", \"Y\":\"-FX-Y\"}\n",
    "iterations = 8 # TOP: 16\n",
    "angle = 90"
   ]
  },
  {
   "cell_type": "code",
   "execution_count": null,
   "id": "b0304a1d",
   "metadata": {},
   "outputs": [],
   "source": [
    "import turtle\n",
    "\n",
    "def create_l_system(iters, axiom, rules):\n",
    "    # в качестве начальной строки для отображения фрактала на 0-й итерации берём аксиому.\n",
    "    start_string = axiom\n",
    "    \n",
    "    # если число итераций рано 0, то строка для генерации изображения будет равна исходной строке (аксиоме).\n",
    "    if iters == 0:\n",
    "        return axiom\n",
    "    end_string = \"\"\n",
    "    \n",
    "    # на каждой итерации обновляет строку для отображения фрактала. \n",
    "    # Для этого используем правила замены символов в строке с предыдущей итерации.\n",
    "    for _ in range(iters):\n",
    "        end_string = \"\".join(rules[i] if i in rules else i for i in start_string)\n",
    "        start_string = end_string\n",
    "\n",
    "    return end_string\n",
    "\n",
    "\n",
    "def draw_l_system(t, instructions, angle, distance):\n",
    "    '''\n",
    "    Функция для отрисовки фрактала по строке\n",
    "    если текущий символ 'F', то \"черепашка\" перемещается вперёд;\n",
    "    если '+' - то вправо;\n",
    "    если '-' - то влево.\n",
    "    '''\n",
    "    for cmd in instructions:\n",
    "        if cmd == 'F':\n",
    "            t.forward(distance)\n",
    "        elif cmd == '+':\n",
    "            t.right(angle)\n",
    "        elif cmd == '-':\n",
    "            t.left(angle)\n",
    "\n",
    "\n",
    "def main(iterations, axiom, rules, angle, length=8, size=2, y_offset=0,\n",
    "        x_offset=0, offset_angle=0, width=450, height=450):\n",
    "\n",
    "    inst = create_l_system(iterations, axiom, rules)\n",
    "\n",
    "    t = turtle.Turtle()\n",
    "    wn = turtle.Screen()\n",
    "    wn.setup(width, height)\n",
    "\n",
    "    t.up()\n",
    "    t.backward(-x_offset)\n",
    "    t.left(90)\n",
    "    t.backward(-y_offset)\n",
    "    t.left(offset_angle)\n",
    "    t.down()\n",
    "    t.speed(0)\n",
    "    t.pensize(size)\n",
    "    draw_l_system(t, inst, angle, length)\n",
    "    t.hideturtle()\n",
    "\n",
    "    wn.exitonclick()"
   ]
  },
  {
   "cell_type": "code",
   "execution_count": null,
   "id": "1fa5f4fc",
   "metadata": {},
   "outputs": [],
   "source": [
    "main(iterations, axiom, rules, angle, length=8, size=2, y_offset=0, x_offset=0, offset_angle=0, width=450, height=450)"
   ]
  },
  {
   "cell_type": "markdown",
   "id": "2e6a5b5a-ba76-41f8-a64c-a0c6d8f4d79c",
   "metadata": {},
   "source": [
    "При запуске кода изображение фрактала строится в отдельном окне."
   ]
  },
  {
   "cell_type": "code",
   "execution_count": null,
   "id": "7dd164bf-a2f9-4754-a003-eafbb5cfe734",
   "metadata": {},
   "outputs": [],
   "source": []
  }
 ],
 "metadata": {
  "kernelspec": {
   "display_name": "Python 3 (ipykernel)",
   "language": "python",
   "name": "python3"
  },
  "language_info": {
   "codemirror_mode": {
    "name": "ipython",
    "version": 3
   },
   "file_extension": ".py",
   "mimetype": "text/x-python",
   "name": "python",
   "nbconvert_exporter": "python",
   "pygments_lexer": "ipython3",
   "version": "3.9.12"
  }
 },
 "nbformat": 4,
 "nbformat_minor": 5
}
