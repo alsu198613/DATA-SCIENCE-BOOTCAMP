{
 "cells": [
  {
   "cell_type": "markdown",
   "id": "73957b26",
   "metadata": {},
   "source": [
    "Задача 1.\n",
    "Предположим, что мы хотим найти вероятность того, что на игральной кости при броске выпадет значение больше 4."
   ]
  },
  {
   "cell_type": "code",
   "execution_count": 2,
   "id": "c15d912c",
   "metadata": {},
   "outputs": [
    {
     "data": {
      "text/plain": [
       "0.3333333333333333"
      ]
     },
     "execution_count": 2,
     "metadata": {},
     "output_type": "execute_result"
    }
   ],
   "source": [
    "2/6"
   ]
  },
  {
   "cell_type": "markdown",
   "id": "dabbe6ab",
   "metadata": {},
   "source": [
    "Задача 2. Написать функцию для вычисления факториала и рассчитать число сочетаний из 6 по 2"
   ]
  },
  {
   "cell_type": "code",
   "execution_count": 3,
   "id": "137ba91e",
   "metadata": {},
   "outputs": [
    {
     "name": "stdout",
     "output_type": "stream",
     "text": [
      "720\n"
     ]
    }
   ],
   "source": [
    "x=1\n",
    "for i in range(6):\n",
    "    x=x*(i+1)\n",
    "print(x)"
   ]
  },
  {
   "cell_type": "code",
   "execution_count": 4,
   "id": "e6bf90d4",
   "metadata": {},
   "outputs": [],
   "source": [
    "def fact(x):\n",
    "    if x==0:\n",
    "        return 1\n",
    "    return x*fact(x-1)"
   ]
  },
  {
   "cell_type": "code",
   "execution_count": 5,
   "id": "e1ec81db",
   "metadata": {},
   "outputs": [
    {
     "data": {
      "text/plain": [
       "720"
      ]
     },
     "execution_count": 5,
     "metadata": {},
     "output_type": "execute_result"
    }
   ],
   "source": [
    "fact(6)"
   ]
  },
  {
   "cell_type": "code",
   "execution_count": 6,
   "id": "7e919dfd",
   "metadata": {},
   "outputs": [
    {
     "data": {
      "text/plain": [
       "15.0"
      ]
     },
     "execution_count": 6,
     "metadata": {},
     "output_type": "execute_result"
    }
   ],
   "source": [
    "fact(6)/(fact(2)*fact(6-2))"
   ]
  },
  {
   "cell_type": "markdown",
   "id": "097ec1f5",
   "metadata": {},
   "source": [
    "Задача 3. Из 30 стрелков 12 попадает в цель с вероятностью 0,6, 8 - с вероятностью 0,5\n",
    "и 10 – с вероятностью 0,7. Наудачу выбранный стрелок произвел выстрел, поразив цель.\n",
    "К какой из групп вероятнее всего принадлежал этот стрелок?"
   ]
  },
  {
   "cell_type": "code",
   "execution_count": 9,
   "id": "2af8ce90",
   "metadata": {},
   "outputs": [],
   "source": [
    "#E1 = Исследуемый стрелок принадлежит к группе 1\n",
    "#E2 = Исследуемый стрелок принадлежит к группе 2\n",
    "#E3 = Исследуемый стрелок принадлежит к группе 3"
   ]
  },
  {
   "cell_type": "code",
   "execution_count": null,
   "id": "345ea338",
   "metadata": {},
   "outputs": [],
   "source": [
    "#P(E1) = 12 / 30\n",
    "#P(E2) = 8 / 30\n",
    "#P(E3) = 10 / 30"
   ]
  },
  {
   "cell_type": "code",
   "execution_count": null,
   "id": "617c006f",
   "metadata": {},
   "outputs": [],
   "source": [
    "#A = попадание стрелка в цель"
   ]
  },
  {
   "cell_type": "code",
   "execution_count": null,
   "id": "4803fae7",
   "metadata": {},
   "outputs": [],
   "source": [
    "#P(A|E1) = 0.6\n",
    "#P(A|E2) = 0.5\n",
    "#P(A|E3) = 0.7"
   ]
  },
  {
   "cell_type": "code",
   "execution_count": null,
   "id": "dff108a4",
   "metadata": {},
   "outputs": [],
   "source": [
    "#P(A) = P(A|E1)*P(E1) + P(A|E2)*P(E2)+\n",
    "#P(A|E3)*P(E3)"
   ]
  },
  {
   "cell_type": "code",
   "execution_count": null,
   "id": "d48e004a",
   "metadata": {},
   "outputs": [],
   "source": [
    "#P(E_?|A) = (P(A|E_?)*P(E_?))/P(A)"
   ]
  },
  {
   "cell_type": "code",
   "execution_count": null,
   "id": "86628c27",
   "metadata": {},
   "outputs": [],
   "source": [
    "#P(E1|A), P(E2|A), P(E3|A)"
   ]
  },
  {
   "cell_type": "code",
   "execution_count": null,
   "id": "9ada4a05",
   "metadata": {},
   "outputs": [],
   "source": [
    "#Ans.: P(E1|A)"
   ]
  },
  {
   "cell_type": "markdown",
   "id": "26cd1f64",
   "metadata": {},
   "source": [
    "Задача 4. Сгенерировать выборку реализаций случайной величины (кроме распределения Коши)\n",
    "Любимое распределение можно выбрать тут - https://docs.scipy.org/doc/scipy/reference/stats.html\n",
    "Проверить ЦПТ."
   ]
  },
  {
   "cell_type": "code",
   "execution_count": 7,
   "id": "1f14b915",
   "metadata": {},
   "outputs": [],
   "source": [
    "from scipy.stats import expon"
   ]
  },
  {
   "cell_type": "code",
   "execution_count": 8,
   "id": "9beeaf24",
   "metadata": {},
   "outputs": [],
   "source": [
    "rv = expon()"
   ]
  },
  {
   "cell_type": "code",
   "execution_count": 9,
   "id": "7666347f",
   "metadata": {},
   "outputs": [],
   "source": [
    "r = expon.rvs(size=1000)"
   ]
  },
  {
   "cell_type": "code",
   "execution_count": 10,
   "id": "699a088c",
   "metadata": {},
   "outputs": [],
   "source": [
    "import seaborn as sns"
   ]
  },
  {
   "cell_type": "code",
   "execution_count": 11,
   "id": "e0bcfb6f",
   "metadata": {},
   "outputs": [
    {
     "name": "stderr",
     "output_type": "stream",
     "text": [
      "C:\\Users\\Maxim\\Anaconda3\\lib\\site-packages\\matplotlib\\axes\\_axes.py:6462: UserWarning: The 'normed' kwarg is deprecated, and has been replaced by the 'density' kwarg.\n",
      "  warnings.warn(\"The 'normed' kwarg is deprecated, and has been \"\n"
     ]
    },
    {
     "data": {
      "text/plain": [
       "<matplotlib.axes._subplots.AxesSubplot at 0x17cc3cce940>"
      ]
     },
     "execution_count": 11,
     "metadata": {},
     "output_type": "execute_result"
    },
    {
     "data": {
      "image/png": "[encoded data removed]",
      "text/plain": [
       "<Figure size 432x288 with 1 Axes>"
      ]
     },
     "metadata": {},
     "output_type": "display_data"
    }
   ],
   "source": [
    "sns.distplot(r)"
   ]
  },
  {
   "cell_type": "code",
   "execution_count": 12,
   "id": "a4501c56",
   "metadata": {},
   "outputs": [],
   "source": [
    "from scipy import stats"
   ]
  },
  {
   "cell_type": "code",
   "execution_count": 13,
   "id": "c35d82aa",
   "metadata": {},
   "outputs": [],
   "source": [
    "a1=[]\n",
    "for _ in range(10):\n",
    "    a1.append(expon.rvs(size=100).mean())"
   ]
  },
  {
   "cell_type": "code",
   "execution_count": 14,
   "id": "7f53777d",
   "metadata": {},
   "outputs": [
    {
     "data": {
      "text/plain": [
       "[1.0465166634489091,\n",
       " 0.8937706867448156,\n",
       " 0.7905108793528461,\n",
       " 1.1120346166988946,\n",
       " 0.9289762996346768,\n",
       " 1.0244913321800195,\n",
       " 1.229041633635641,\n",
       " 0.9740322934412621,\n",
       " 0.9833105311516914,\n",
       " 1.0843281573455195]"
      ]
     },
     "execution_count": 14,
     "metadata": {},
     "output_type": "execute_result"
    }
   ],
   "source": [
    "a1"
   ]
  },
  {
   "cell_type": "code",
   "execution_count": 15,
   "id": "0dc7773d",
   "metadata": {},
   "outputs": [
    {
     "name": "stderr",
     "output_type": "stream",
     "text": [
      "C:\\Users\\Maxim\\Anaconda3\\lib\\site-packages\\matplotlib\\axes\\_axes.py:6462: UserWarning: The 'normed' kwarg is deprecated, and has been replaced by the 'density' kwarg.\n",
      "  warnings.warn(\"The 'normed' kwarg is deprecated, and has been \"\n"
     ]
    },
    {
     "data": {
      "text/plain": [
       "<matplotlib.axes._subplots.AxesSubplot at 0x17cc3e10e80>"
      ]
     },
     "execution_count": 15,
     "metadata": {},
     "output_type": "execute_result"
    },
    {
     "data": {
      "image/png": "[encoded data removed]",
      "text/plain": [
       "<Figure size 432x288 with 1 Axes>"
      ]
     },
     "metadata": {},
     "output_type": "display_data"
    }
   ],
   "source": [
    "sns.distplot(a1)"
   ]
  },
  {
   "cell_type": "code",
   "execution_count": 16,
   "id": "6627fab0",
   "metadata": {},
   "outputs": [
    {
     "data": {
      "text/plain": [
       "AndersonResult(statistic=0.12090848661573617, critical_values=array([0.501, 0.57 , 0.684, 0.798, 0.95 ]), significance_level=array([15. , 10. ,  5. ,  2.5,  1. ]))"
      ]
     },
     "execution_count": 16,
     "metadata": {},
     "output_type": "execute_result"
    }
   ],
   "source": [
    "stats.anderson(a1)"
   ]
  },
  {
   "cell_type": "code",
   "execution_count": 17,
   "id": "f725771d",
   "metadata": {},
   "outputs": [],
   "source": [
    "a2=[]\n",
    "for _ in range(100):\n",
    "    a2.append(expon.rvs(size=100).mean())"
   ]
  },
  {
   "cell_type": "code",
   "execution_count": 18,
   "id": "f5ce57c4",
   "metadata": {},
   "outputs": [
    {
     "name": "stderr",
     "output_type": "stream",
     "text": [
      "C:\\Users\\Maxim\\Anaconda3\\lib\\site-packages\\matplotlib\\axes\\_axes.py:6462: UserWarning: The 'normed' kwarg is deprecated, and has been replaced by the 'density' kwarg.\n",
      "  warnings.warn(\"The 'normed' kwarg is deprecated, and has been \"\n"
     ]
    },
    {
     "data": {
      "text/plain": [
       "<matplotlib.axes._subplots.AxesSubplot at 0x17cc3eec1d0>"
      ]
     },
     "execution_count": 18,
     "metadata": {},
     "output_type": "execute_result"
    },
    {
     "data": {
      "image/png": "[encoded data removed]",
      "text/plain": [
       "<Figure size 432x288 with 1 Axes>"
      ]
     },
     "metadata": {},
     "output_type": "display_data"
    }
   ],
   "source": [
    "sns.distplot(a2)"
   ]
  },
  {
   "cell_type": "code",
   "execution_count": 19,
   "id": "80cce5e3",
   "metadata": {},
   "outputs": [
    {
     "data": {
      "text/plain": [
       "AndersonResult(statistic=0.876528917093097, critical_values=array([0.555, 0.632, 0.759, 0.885, 1.053]), significance_level=array([15. , 10. ,  5. ,  2.5,  1. ]))"
      ]
     },
     "execution_count": 19,
     "metadata": {},
     "output_type": "execute_result"
    }
   ],
   "source": [
    "stats.anderson(a2)"
   ]
  },
  {
   "cell_type": "code",
   "execution_count": 20,
   "id": "8bda8183",
   "metadata": {},
   "outputs": [],
   "source": [
    "a3=[]\n",
    "for _ in range(1000):\n",
    "    a3.append(expon.rvs(size=100).mean())"
   ]
  },
  {
   "cell_type": "code",
   "execution_count": 21,
   "id": "e9e75811",
   "metadata": {},
   "outputs": [
    {
     "name": "stderr",
     "output_type": "stream",
     "text": [
      "C:\\Users\\Maxim\\Anaconda3\\lib\\site-packages\\matplotlib\\axes\\_axes.py:6462: UserWarning: The 'normed' kwarg is deprecated, and has been replaced by the 'density' kwarg.\n",
      "  warnings.warn(\"The 'normed' kwarg is deprecated, and has been \"\n"
     ]
    },
    {
     "data": {
      "text/plain": [
       "<matplotlib.axes._subplots.AxesSubplot at 0x17cc4f10278>"
      ]
     },
     "execution_count": 21,
     "metadata": {},
     "output_type": "execute_result"
    },
    {
     "data": {
      "image/png": "[encoded data removed]",
      "text/plain": [
       "<Figure size 432x288 with 1 Axes>"
      ]
     },
     "metadata": {},
     "output_type": "display_data"
    }
   ],
   "source": [
    "sns.distplot(a3)"
   ]
  },
  {
   "cell_type": "code",
   "execution_count": 22,
   "id": "8b10d9cd",
   "metadata": {},
   "outputs": [
    {
     "data": {
      "text/plain": [
       "AndersonResult(statistic=2.296040212948924, critical_values=array([0.574, 0.653, 0.784, 0.914, 1.088]), significance_level=array([15. , 10. ,  5. ,  2.5,  1. ]))"
      ]
     },
     "execution_count": 22,
     "metadata": {},
     "output_type": "execute_result"
    }
   ],
   "source": [
    "stats.anderson(a3)"
   ]
  },
  {
   "cell_type": "code",
   "execution_count": 42,
   "id": "97830576",
   "metadata": {},
   "outputs": [],
   "source": [
    "a4=[]\n",
    "for _ in range(10000):\n",
    "    a4.append(expon.rvs(size=100).mean())"
   ]
  },
  {
   "cell_type": "code",
   "execution_count": null,
   "id": "4eaa26e5",
   "metadata": {},
   "outputs": [],
   "source": []
  },
  {
   "cell_type": "code",
   "execution_count": 1,
   "id": "3769f4cc",
   "metadata": {},
   "outputs": [
    {
     "ename": "NameError",
     "evalue": "name 'sns' is not defined",
     "output_type": "error",
     "traceback": [
      "\u001b[1;31m---------------------------------------------------------------------------\u001b[0m",
      "\u001b[1;31mNameError\u001b[0m                                 Traceback (most recent call last)",
      "\u001b[1;32m<ipython-input-1-9e29f88a7edd>\u001b[0m in \u001b[0;36m<module>\u001b[1;34m()\u001b[0m\n\u001b[1;32m----> 1\u001b[1;33m \u001b[0msns\u001b[0m\u001b[1;33m.\u001b[0m\u001b[0mdistplot\u001b[0m\u001b[1;33m(\u001b[0m\u001b[0mnp\u001b[0m\u001b[1;33m.\u001b[0m\u001b[0marray\u001b[0m\u001b[1;33m(\u001b[0m\u001b[0ma4\u001b[0m\u001b[1;33m)\u001b[0m\u001b[1;33m)\u001b[0m\u001b[1;33m\u001b[0m\u001b[0m\n\u001b[0m",
      "\u001b[1;31mNameError\u001b[0m: name 'sns' is not defined"
     ]
    }
   ],
   "source": [
    "sns.distplot(np.array(a4))"
   ]
  },
  {
   "cell_type": "code",
   "execution_count": 64,
   "id": "e1b88133",
   "metadata": {},
   "outputs": [
    {
     "data": {
      "text/plain": [
       "AndersonResult(statistic=5.714306533165654, critical_values=array([0.576, 0.656, 0.787, 0.918, 1.092]), significance_level=array([15. , 10. ,  5. ,  2.5,  1. ]))"
      ]
     },
     "execution_count": 64,
     "metadata": {},
     "output_type": "execute_result"
    }
   ],
   "source": [
    "stats.anderson(np.array(a4))"
   ]
  },
  {
   "cell_type": "code",
   "execution_count": 65,
   "id": "0d71bee7",
   "metadata": {},
   "outputs": [],
   "source": [
    "a5=[]\n",
    "for _ in range(1000000):\n",
    "    a5.append(expon.rvs(size=100).mean())"
   ]
  },
  {
   "cell_type": "code",
   "execution_count": 66,
   "id": "e801569e",
   "metadata": {},
   "outputs": [],
   "source": [
    "import numpy as np"
   ]
  },
  {
   "cell_type": "code",
   "execution_count": 71,
   "id": "e3df4972",
   "metadata": {},
   "outputs": [
    {
     "name": "stderr",
     "output_type": "stream",
     "text": [
      "C:\\Users\\Maxim\\Anaconda3\\lib\\site-packages\\matplotlib\\axes\\_axes.py:6462: UserWarning: The 'normed' kwarg is deprecated, and has been replaced by the 'density' kwarg.\n",
      "  warnings.warn(\"The 'normed' kwarg is deprecated, and has been \"\n"
     ]
    },
    {
     "data": {
      "text/plain": [
       "<matplotlib.axes._subplots.AxesSubplot at 0x17cc7f79be0>"
      ]
     },
     "execution_count": 71,
     "metadata": {},
     "output_type": "execute_result"
    },
    {
     "data": {
      "image/png": "[encoded data removed]",
      "text/plain": [
       "<Figure size 432x288 with 1 Axes>"
      ]
     },
     "metadata": {},
     "output_type": "display_data"
    }
   ],
   "source": [
    "sns.distplot(np.array(a5))"
   ]
  },
  {
   "cell_type": "code",
   "execution_count": 68,
   "id": "f253f4a6",
   "metadata": {},
   "outputs": [],
   "source": [
    "import numpy as np"
   ]
  },
  {
   "cell_type": "code",
   "execution_count": 72,
   "id": "34cb281f",
   "metadata": {},
   "outputs": [
    {
     "data": {
      "text/plain": [
       "AndersonResult(statistic=412.2756180311553, critical_values=array([0.576, 0.656, 0.787, 0.918, 1.092]), significance_level=array([15. , 10. ,  5. ,  2.5,  1. ]))"
      ]
     },
     "execution_count": 72,
     "metadata": {},
     "output_type": "execute_result"
    }
   ],
   "source": [
    "stats.anderson(np.array(a5))"
   ]
  },
  {
   "cell_type": "markdown",
   "id": "5e6f94d7",
   "metadata": {},
   "source": [
    "Задача 5. Попробовать применить ЦПТ к распределению Коши"
   ]
  },
  {
   "cell_type": "code",
   "execution_count": 32,
   "id": "9f1dcc4e",
   "metadata": {},
   "outputs": [],
   "source": [
    "from scipy.stats import cauchy"
   ]
  },
  {
   "cell_type": "code",
   "execution_count": 33,
   "id": "91d7914c",
   "metadata": {},
   "outputs": [],
   "source": [
    "a6=[]\n",
    "for _ in range(100000):\n",
    "    a6.append(cauchy.rvs(size=1000).mean())"
   ]
  },
  {
   "cell_type": "code",
   "execution_count": 36,
   "id": "adabeafe",
   "metadata": {},
   "outputs": [
    {
     "name": "stderr",
     "output_type": "stream",
     "text": [
      "C:\\Users\\Maxim\\Anaconda3\\lib\\site-packages\\matplotlib\\axes\\_axes.py:6462: UserWarning: The 'normed' kwarg is deprecated, and has been replaced by the 'density' kwarg.\n",
      "  warnings.warn(\"The 'normed' kwarg is deprecated, and has been \"\n"
     ]
    },
    {
     "data": {
      "text/plain": [
       "<matplotlib.axes._subplots.AxesSubplot at 0x17cc57c5898>"
      ]
     },
     "execution_count": 36,
     "metadata": {},
     "output_type": "execute_result"
    },
    {
     "data": {
      "image/png": "[encoded data removed]",
      "text/plain": [
       "<Figure size 432x288 with 1 Axes>"
      ]
     },
     "metadata": {},
     "output_type": "display_data"
    }
   ],
   "source": [
    "sns.distplot(cauchy.rvs(size=1000))"
   ]
  },
  {
   "cell_type": "code",
   "execution_count": 34,
   "id": "039e97b6",
   "metadata": {},
   "outputs": [
    {
     "name": "stderr",
     "output_type": "stream",
     "text": [
      "C:\\Users\\Maxim\\Anaconda3\\lib\\site-packages\\matplotlib\\axes\\_axes.py:6462: UserWarning: The 'normed' kwarg is deprecated, and has been replaced by the 'density' kwarg.\n",
      "  warnings.warn(\"The 'normed' kwarg is deprecated, and has been \"\n"
     ]
    },
    {
     "data": {
      "text/plain": [
       "<matplotlib.axes._subplots.AxesSubplot at 0x17cc5464588>"
      ]
     },
     "execution_count": 34,
     "metadata": {},
     "output_type": "execute_result"
    },
    {
     "data": {
      "image/png": "[encoded data removed]",
      "text/plain": [
       "<Figure size 432x288 with 1 Axes>"
      ]
     },
     "metadata": {},
     "output_type": "display_data"
    }
   ],
   "source": [
    "sns.distplot(np.array(a6))"
   ]
  },
  {
   "cell_type": "code",
   "execution_count": 35,
   "id": "ae2a3779",
   "metadata": {},
   "outputs": [
    {
     "data": {
      "text/plain": [
       "AndersonResult(statistic=36196.46025256347, critical_values=array([0.576, 0.656, 0.787, 0.918, 1.092]), significance_level=array([15. , 10. ,  5. ,  2.5,  1. ]))"
      ]
     },
     "execution_count": 35,
     "metadata": {},
     "output_type": "execute_result"
    }
   ],
   "source": [
    "stats.anderson(np.array(a6))"
   ]
  },
  {
   "cell_type": "markdown",
   "id": "e96e2bec",
   "metadata": {},
   "source": [
    "Задача 6. Посчитать основные характеристики выборки."
   ]
  },
  {
   "cell_type": "code",
   "execution_count": 37,
   "id": "e1575802",
   "metadata": {},
   "outputs": [],
   "source": [
    "a5rr=np.array(a5)"
   ]
  },
  {
   "cell_type": "code",
   "execution_count": 38,
   "id": "e81caf64",
   "metadata": {},
   "outputs": [
    {
     "data": {
      "text/plain": [
       "(0.6372621286909754,\n",
       " 1.4676308809507486,\n",
       " 1.0002149929788795,\n",
       " 0.10031128566447192)"
      ]
     },
     "execution_count": 38,
     "metadata": {},
     "output_type": "execute_result"
    }
   ],
   "source": [
    "np.min(a5rr), np.max(a5rr), np.mean(a5rr), np.std(a5rr)"
   ]
  },
  {
   "cell_type": "markdown",
   "id": "a67bd978",
   "metadata": {},
   "source": [
    "Задача 7. Посчитать коэффициент корреляции для двух векторов"
   ]
  },
  {
   "cell_type": "code",
   "execution_count": 39,
   "id": "5fe440fb",
   "metadata": {},
   "outputs": [],
   "source": [
    "a6rr=np.array(a6)"
   ]
  },
  {
   "cell_type": "code",
   "execution_count": 103,
   "id": "30d7ee8e",
   "metadata": {},
   "outputs": [
    {
     "data": {
      "text/plain": [
       "(100000, 100000)"
      ]
     },
     "execution_count": 103,
     "metadata": {},
     "output_type": "execute_result"
    }
   ],
   "source": [
    "len(a5), len(a6)"
   ]
  },
  {
   "cell_type": "code",
   "execution_count": 40,
   "id": "2d9f148d",
   "metadata": {},
   "outputs": [
    {
     "data": {
      "text/plain": [
       "array([[ 1.        , -0.00277446],\n",
       "       [-0.00277446,  1.        ]])"
      ]
     },
     "execution_count": 40,
     "metadata": {},
     "output_type": "execute_result"
    }
   ],
   "source": [
    "np.corrcoef(a5rr, a6rr)"
   ]
  }
 ],
 "metadata": {
  "kernelspec": {
   "display_name": "Python 3",
   "language": "python",
   "name": "python3"
  },
  "language_info": {
   "codemirror_mode": {
    "name": "ipython",
    "version": 3
   },
   "file_extension": ".py",
   "mimetype": "text/x-python",
   "name": "python",
   "nbconvert_exporter": "python",
   "pygments_lexer": "ipython3",
   "version": "3.6.5"
  }
 },
 "nbformat": 4,
 "nbformat_minor": 5
}
